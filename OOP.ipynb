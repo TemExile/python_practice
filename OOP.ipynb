{
 "cells": [
  {
   "cell_type": "code",
   "execution_count": 1,
   "metadata": {},
   "outputs": [],
   "source": [
    "class flower(object):\n",
    "    def __init__(self, name, status, object_type = 'flower'):\n",
    "        self.name = name\n",
    "        self.status = status\n",
    "        self.object_type = object_type\n",
    "    def water(self, amount):\n",
    "        self.status += 0.75 * amount\n",
    "\n",
    "flower1 = flower('yellow', 10)"
   ]
  },
  {
   "cell_type": "code",
   "execution_count": 2,
   "metadata": {},
   "outputs": [
    {
     "name": "stdout",
     "output_type": "stream",
     "text": [
      "<__main__.flower object at 0x0659D450>\n"
     ]
    }
   ],
   "source": [
    "print(flower1)"
   ]
  },
  {
   "cell_type": "code",
   "execution_count": 22,
   "metadata": {},
   "outputs": [
    {
     "data": {
      "text/plain": [
       "__main__.flower"
      ]
     },
     "execution_count": 22,
     "metadata": {},
     "output_type": "execute_result"
    }
   ],
   "source": [
    "type(flower1)"
   ]
  },
  {
   "cell_type": "code",
   "execution_count": 3,
   "metadata": {},
   "outputs": [],
   "source": [
    "flower1.water(10)"
   ]
  },
  {
   "cell_type": "code",
   "execution_count": 4,
   "metadata": {},
   "outputs": [
    {
     "name": "stdout",
     "output_type": "stream",
     "text": [
      "<__main__.flower object at 0x0659D450>\n"
     ]
    }
   ],
   "source": [
    "print(flower1)"
   ]
  },
  {
   "cell_type": "code",
   "execution_count": 5,
   "metadata": {},
   "outputs": [],
   "source": [
    "class tree(object):\n",
    "    def __init__(self, name, status, object_type = 'tree'):\n",
    "        self.name = name\n",
    "        self.status = status\n",
    "        self.object_type = object_type\n",
    "    def water(self, amount):\n",
    "        self.status += 0.4 * amount"
   ]
  },
  {
   "cell_type": "code",
   "execution_count": 20,
   "metadata": {},
   "outputs": [],
   "source": [
    "class garden(object):\n",
    "    def __init__(self, plant_list, need_water = 0, needed = []):\n",
    "        self.plant_list = plant_list\n",
    "        self.need_water = need_water\n",
    "        self.needed = needed\n",
    "    def check(self):\n",
    "        self.need_water = 0\n",
    "        for i in range(len(self.plant_list)):\n",
    "            if self.plant_list[i].object_type == 'flower':\n",
    "                if self.plant_list[i].status < 5:\n",
    "                    self.need_water += 1\n",
    "                    self.needed.append(self.plant_list[i])\n",
    "                    print(f'The {self.plant_list[i].name} needs water')\n",
    "                else:\n",
    "                    print(f'The {self.plant_list[i].name} dosent need water')\n",
    "            else:\n",
    "                if self.plant_list[i].status < 10:\n",
    "                    self.need_water += 1\n",
    "                    self.needed.append(self.plant_list[i])\n",
    "                    print(f'The {self.plant_list[i].name} needs water')                \n",
    "                else:\n",
    "                    print(f'The {self.plant_list[i].name} dosent need water')\n",
    "    def water(self, amount):\n",
    "        if self.need_water != 0:\n",
    "            water_amount = amount/self.need_water\n",
    "            for i in range(len(self.needed)):\n",
    "                if self.needed[i].object_type == 'flower':\n",
    "                    flower.water(self.needed[i], water_amount)\n",
    "                else:\n",
    "                    tree.water(self.needed[i], water_amount)\n",
    "        self.needed = []\n",
    "        print(f'Watering with {amount}')"
   ]
  },
  {
   "cell_type": "code",
   "execution_count": 21,
   "metadata": {},
   "outputs": [
    {
     "name": "stdout",
     "output_type": "stream",
     "text": [
      "\n",
      "\n",
      "The yellow Flower needs water\n",
      "The blue Flower needs water\n",
      "The purple Tree needs water\n",
      "The orange Tree needs water\n",
      "\n",
      "\n",
      "Watering with 40\n",
      "\n",
      "\n",
      "The yellow Flower dosent need water\n",
      "The blue Flower dosent need water\n",
      "The purple Tree dosent need water\n",
      "The orange Tree dosent need water\n",
      "\n",
      "\n",
      "Watering with 70\n",
      "\n",
      "\n",
      "The yellow Flower dosent need water\n",
      "The blue Flower dosent need water\n",
      "The purple Tree dosent need water\n",
      "The orange Tree dosent need water\n"
     ]
    }
   ],
   "source": [
    "flower1 = flower('yellow Flower', 4)\n",
    "flower2 = flower('blue Flower', 4)\n",
    "tree1 = tree('purple Tree', 9)\n",
    "tree2 = tree('orange Tree', 9)\n",
    "\n",
    "plant = [flower1, flower2, tree1, tree2]\n",
    "\n",
    "garden1 = garden(plant_list = plant)\n",
    "print('\\n')\n",
    "garden1.check()\n",
    "print('\\n')\n",
    "garden1.water(40)\n",
    "print('\\n')\n",
    "garden1.check()\n",
    "print('\\n')\n",
    "garden1.water(70)\n",
    "print('\\n')\n",
    "garden1.check()"
   ]
  },
  {
   "cell_type": "code",
   "execution_count": null,
   "metadata": {},
   "outputs": [],
   "source": []
  }
 ],
 "metadata": {
  "kernelspec": {
   "display_name": "Python 3",
   "language": "python",
   "name": "python3"
  },
  "language_info": {
   "codemirror_mode": {
    "name": "ipython",
    "version": 3
   },
   "file_extension": ".py",
   "mimetype": "text/x-python",
   "name": "python",
   "nbconvert_exporter": "python",
   "pygments_lexer": "ipython3",
   "version": "3.7.3"
  }
 },
 "nbformat": 4,
 "nbformat_minor": 2
}
